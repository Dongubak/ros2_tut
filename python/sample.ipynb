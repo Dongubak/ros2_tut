{
 "cells": [
  {
   "cell_type": "code",
   "execution_count": null,
   "id": "097b8f7c",
   "metadata": {
    "vscode": {
     "languageId": "plaintext"
    }
   },
   "outputs": [],
   "source": [
    "print(123)"
   ]
  }
 ],
 "metadata": {
  "language_info": {
   "name": "python"
  }
 },
 "nbformat": 4,
 "nbformat_minor": 5
}
