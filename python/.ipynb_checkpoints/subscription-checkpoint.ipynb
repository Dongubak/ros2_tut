{
 "cells": [
  {
   "cell_type": "code",
   "execution_count": 1,
   "id": "ca2b213a",
   "metadata": {},
   "outputs": [
    {
     "name": "stdout",
     "output_type": "stream",
     "text": [
      "sys.executable: /home/user1/Documents/Github/ros2_tut/.venv/bin/python3\n",
      "/home/user1/Documents/Github/ros2_tut/.venv/bin/python\n",
      "/bin/zsh\n",
      "ROS_AUTOMATIC_DISCOVERY_RANGE=SUBNET\n",
      "ROS_DISTRO=rolling\n",
      "ROS_PYTHON_VERSION=3\n",
      "ROS_VERSION=2\n",
      "ROS_DOMAIN_ID=13\n"
     ]
    }
   ],
   "source": [
    "import sys\n",
    "print(\"sys.executable:\", sys.executable)\n",
    "!which python\n",
    "!echo $SHELL\n",
    "!printenv | grep ROS"
   ]
  },
  {
   "cell_type": "code",
   "execution_count": 2,
   "id": "097b8f7c",
   "metadata": {},
   "outputs": [],
   "source": [
    "import rclpy as rp\n",
    "from turtlesim_msgs.msg import Pose"
   ]
  },
  {
   "cell_type": "code",
   "execution_count": 3,
   "id": "35c96f48",
   "metadata": {},
   "outputs": [
    {
     "data": {
      "text/plain": [
       "<rclpy.InitContextManager at 0x77e6ec2da330>"
      ]
     },
     "execution_count": 3,
     "metadata": {},
     "output_type": "execute_result"
    }
   ],
   "source": [
    "rp.init()"
   ]
  },
  {
   "cell_type": "code",
   "execution_count": 4,
   "id": "6a9a02e2-706b-46ab-8fe4-1b471ffb7666",
   "metadata": {},
   "outputs": [],
   "source": [
    "test_node = rp.create_node('sub_test')"
   ]
  },
  {
   "cell_type": "code",
   "execution_count": 5,
   "id": "4fb07a3c",
   "metadata": {},
   "outputs": [],
   "source": [
    "cnt = 0\n",
    "\n",
    "def callback(data):\n",
    "    global cnt\n",
    "    cnt += 1\n",
    "    print(\">\", cnt, \" -> X : \", data.x, \", Y : \", data.y)\n",
    "\n",
    "    if cnt > 3:\n",
    "        raise Exception(\"Subscription Stop!\")"
   ]
  },
  {
   "cell_type": "code",
   "execution_count": 6,
   "id": "cd89da0b",
   "metadata": {},
   "outputs": [
    {
     "data": {
      "text/plain": [
       "<rclpy.subscription.Subscription at 0x77e6d543a180>"
      ]
     },
     "execution_count": 6,
     "metadata": {},
     "output_type": "execute_result"
    }
   ],
   "source": [
    "test_node.create_subscription(Pose, '/turtle1/pose', callback, 10)"
   ]
  },
  {
   "cell_type": "code",
   "execution_count": 7,
   "id": "cfd9e27f",
   "metadata": {},
   "outputs": [],
   "source": [
    "# rp.spin_once(test_node)"
   ]
  },
  {
   "cell_type": "code",
   "execution_count": 8,
   "id": "47e491f5-29b6-4448-9d54-e9cc6b1fa501",
   "metadata": {},
   "outputs": [
    {
     "name": "stdout",
     "output_type": "stream",
     "text": [
      "> 1  -> X :  5.544444561004639 , Y :  5.544444561004639\n",
      "> 2  -> X :  5.544444561004639 , Y :  5.544444561004639\n",
      "> 3  -> X :  5.544444561004639 , Y :  5.544444561004639\n",
      "> 4  -> X :  5.544444561004639 , Y :  5.544444561004639\n"
     ]
    },
    {
     "ename": "Exception",
     "evalue": "Subscription Stop!",
     "output_type": "error",
     "traceback": [
      "\u001b[31m---------------------------------------------------------------------------\u001b[39m",
      "\u001b[31mException\u001b[39m                                 Traceback (most recent call last)",
      "\u001b[36mCell\u001b[39m\u001b[36m \u001b[39m\u001b[32mIn[8]\u001b[39m\u001b[32m, line 1\u001b[39m\n\u001b[32m----> \u001b[39m\u001b[32m1\u001b[39m \u001b[43mrp\u001b[49m\u001b[43m.\u001b[49m\u001b[43mspin\u001b[49m\u001b[43m(\u001b[49m\u001b[43mtest_node\u001b[49m\u001b[43m)\u001b[49m\n",
      "\u001b[36mFile \u001b[39m\u001b[32m/opt/ros/rolling/lib/python3.12/site-packages/rclpy/__init__.py:324\u001b[39m, in \u001b[36mspin\u001b[39m\u001b[34m(node, executor)\u001b[39m\n\u001b[32m    322\u001b[39m     executor.add_node(node)\n\u001b[32m    323\u001b[39m     \u001b[38;5;28;01mwhile\u001b[39;00m executor.context.ok():\n\u001b[32m--> \u001b[39m\u001b[32m324\u001b[39m         \u001b[43mexecutor\u001b[49m\u001b[43m.\u001b[49m\u001b[43mspin_once\u001b[49m\u001b[43m(\u001b[49m\u001b[43m)\u001b[49m\n\u001b[32m    325\u001b[39m \u001b[38;5;28;01mfinally\u001b[39;00m:\n\u001b[32m    326\u001b[39m     executor.remove_node(node)\n",
      "\u001b[36mFile \u001b[39m\u001b[32m/opt/ros/rolling/lib/python3.12/site-packages/rclpy/executors.py:934\u001b[39m, in \u001b[36mSingleThreadedExecutor.spin_once\u001b[39m\u001b[34m(self, timeout_sec)\u001b[39m\n\u001b[32m    933\u001b[39m \u001b[38;5;28;01mdef\u001b[39;00m\u001b[38;5;250m \u001b[39m\u001b[34mspin_once\u001b[39m(\u001b[38;5;28mself\u001b[39m, timeout_sec: Optional[\u001b[38;5;28mfloat\u001b[39m] = \u001b[38;5;28;01mNone\u001b[39;00m) -> \u001b[38;5;28;01mNone\u001b[39;00m:\n\u001b[32m--> \u001b[39m\u001b[32m934\u001b[39m     \u001b[38;5;28;43mself\u001b[39;49m\u001b[43m.\u001b[49m\u001b[43m_spin_once_impl\u001b[49m\u001b[43m(\u001b[49m\u001b[43mtimeout_sec\u001b[49m\u001b[43m)\u001b[49m\n",
      "\u001b[36mFile \u001b[39m\u001b[32m/opt/ros/rolling/lib/python3.12/site-packages/rclpy/executors.py:929\u001b[39m, in \u001b[36mSingleThreadedExecutor._spin_once_impl\u001b[39m\u001b[34m(self, timeout_sec, wait_condition)\u001b[39m\n\u001b[32m    927\u001b[39m exception = handler.exception()\n\u001b[32m    928\u001b[39m \u001b[38;5;28;01mif\u001b[39;00m exception \u001b[38;5;129;01mis\u001b[39;00m \u001b[38;5;129;01mnot\u001b[39;00m \u001b[38;5;28;01mNone\u001b[39;00m:\n\u001b[32m--> \u001b[39m\u001b[32m929\u001b[39m     \u001b[38;5;28;01mraise\u001b[39;00m exception\n\u001b[32m    931\u001b[39m handler.result()\n",
      "\u001b[36mFile \u001b[39m\u001b[32m/opt/ros/rolling/lib/python3.12/site-packages/rclpy/task.py:304\u001b[39m, in \u001b[36mTask.__call__\u001b[39m\u001b[34m(self)\u001b[39m\n\u001b[32m    302\u001b[39m handler = \u001b[38;5;28mself\u001b[39m._handler\n\u001b[32m    303\u001b[39m \u001b[38;5;28;01mtry\u001b[39;00m:\n\u001b[32m--> \u001b[39m\u001b[32m304\u001b[39m     \u001b[43mhandler\u001b[49m\u001b[43m.\u001b[49m\u001b[43msend\u001b[49m\u001b[43m(\u001b[49m\u001b[38;5;28;43;01mNone\u001b[39;49;00m\u001b[43m)\u001b[49m\n\u001b[32m    305\u001b[39m \u001b[38;5;28;01mexcept\u001b[39;00m \u001b[38;5;167;01mStopIteration\u001b[39;00m \u001b[38;5;28;01mas\u001b[39;00m e:\n\u001b[32m    306\u001b[39m     \u001b[38;5;66;03m# The coroutine finished; store the result\u001b[39;00m\n\u001b[32m    307\u001b[39m     \u001b[38;5;28mself\u001b[39m.set_result(e.value)\n",
      "\u001b[36mFile \u001b[39m\u001b[32m/opt/ros/rolling/lib/python3.12/site-packages/rclpy/executors.py:603\u001b[39m, in \u001b[36mExecutor._make_handler.<locals>.handler\u001b[39m\u001b[34m(entity, gc, is_shutdown, work_tracker)\u001b[39m\n\u001b[32m    601\u001b[39m \u001b[38;5;28;01mtry\u001b[39;00m:\n\u001b[32m    602\u001b[39m     \u001b[38;5;28;01mif\u001b[39;00m call_coroutine \u001b[38;5;129;01mis\u001b[39;00m \u001b[38;5;129;01mnot\u001b[39;00m \u001b[38;5;28;01mNone\u001b[39;00m:\n\u001b[32m--> \u001b[39m\u001b[32m603\u001b[39m         \u001b[38;5;28;01mawait\u001b[39;00m call_coroutine()\n\u001b[32m    604\u001b[39m \u001b[38;5;28;01mfinally\u001b[39;00m:\n\u001b[32m    605\u001b[39m     \u001b[38;5;28;01mif\u001b[39;00m entity.callback_group:\n",
      "\u001b[36mFile \u001b[39m\u001b[32m/opt/ros/rolling/lib/python3.12/site-packages/rclpy/executors.py:484\u001b[39m, in \u001b[36mExecutor._take_subscription.<locals>._execute\u001b[39m\u001b[34m()\u001b[39m\n\u001b[32m    483\u001b[39m \u001b[38;5;28;01masync\u001b[39;00m \u001b[38;5;28;01mdef\u001b[39;00m\u001b[38;5;250m \u001b[39m\u001b[34m_execute\u001b[39m() -> \u001b[38;5;28;01mNone\u001b[39;00m:\n\u001b[32m--> \u001b[39m\u001b[32m484\u001b[39m     \u001b[38;5;28;01mawait\u001b[39;00m await_or_execute(sub.callback, *msg_tuple)\n",
      "\u001b[36mFile \u001b[39m\u001b[32m/opt/ros/rolling/lib/python3.12/site-packages/rclpy/executors.py:135\u001b[39m, in \u001b[36mawait_or_execute\u001b[39m\u001b[34m(callback, *args)\u001b[39m\n\u001b[32m    132\u001b[39m     \u001b[38;5;28;01mreturn\u001b[39;00m \u001b[38;5;28;01mawait\u001b[39;00m callback(*args)\n\u001b[32m    133\u001b[39m \u001b[38;5;28;01melse\u001b[39;00m:\n\u001b[32m    134\u001b[39m     \u001b[38;5;66;03m# Call a normal function\u001b[39;00m\n\u001b[32m--> \u001b[39m\u001b[32m135\u001b[39m     \u001b[38;5;28;01mreturn\u001b[39;00m \u001b[43mcallback\u001b[49m\u001b[43m(\u001b[49m\u001b[43m*\u001b[49m\u001b[43margs\u001b[49m\u001b[43m)\u001b[49m\n",
      "\u001b[36mCell\u001b[39m\u001b[36m \u001b[39m\u001b[32mIn[5]\u001b[39m\u001b[32m, line 9\u001b[39m, in \u001b[36mcallback\u001b[39m\u001b[34m(data)\u001b[39m\n\u001b[32m      6\u001b[39m \u001b[38;5;28mprint\u001b[39m(\u001b[33m\"\u001b[39m\u001b[33m>\u001b[39m\u001b[33m\"\u001b[39m, cnt, \u001b[33m\"\u001b[39m\u001b[33m -> X : \u001b[39m\u001b[33m\"\u001b[39m, data.x, \u001b[33m\"\u001b[39m\u001b[33m, Y : \u001b[39m\u001b[33m\"\u001b[39m, data.y)\n\u001b[32m      8\u001b[39m \u001b[38;5;28;01mif\u001b[39;00m cnt > \u001b[32m3\u001b[39m:\n\u001b[32m----> \u001b[39m\u001b[32m9\u001b[39m     \u001b[38;5;28;01mraise\u001b[39;00m \u001b[38;5;167;01mException\u001b[39;00m(\u001b[33m\"\u001b[39m\u001b[33mSubscription Stop!\u001b[39m\u001b[33m\"\u001b[39m)\n",
      "\u001b[31mException\u001b[39m: Subscription Stop!"
     ]
    }
   ],
   "source": [
    "rp.spin(test_node)"
   ]
  },
  {
   "cell_type": "code",
   "execution_count": null,
   "id": "23730241-2531-41ac-9f35-cd8fa6a1908b",
   "metadata": {},
   "outputs": [],
   "source": []
  }
 ],
 "metadata": {
  "kernelspec": {
   "display_name": "Python 3 (ROS2 Rolling)",
   "language": "python",
   "name": "python3"
  },
  "language_info": {
   "codemirror_mode": {
    "name": "ipython",
    "version": 3
   },
   "file_extension": ".py",
   "mimetype": "text/x-python",
   "name": "python",
   "nbconvert_exporter": "python",
   "pygments_lexer": "ipython3",
   "version": "3.12.3"
  }
 },
 "nbformat": 4,
 "nbformat_minor": 5
}
